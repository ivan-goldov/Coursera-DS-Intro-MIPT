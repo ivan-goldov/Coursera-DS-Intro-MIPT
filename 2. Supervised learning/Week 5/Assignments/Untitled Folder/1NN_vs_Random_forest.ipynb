{
 "cells": [
  {
   "cell_type": "code",
   "execution_count": 4,
   "metadata": {},
   "outputs": [
    {
     "name": "stdout",
     "output_type": "stream",
     "text": [
      "Populating the interactive namespace from numpy and matplotlib\n"
     ]
    }
   ],
   "source": [
    "import numpy as np\n",
    "import pandas as pd\n",
    "import matplotlib.pyplot as plt\n",
    "from sklearn.model_selection import train_test_split\n",
    "from sklearn import datasets\n",
    "%pylab inline"
   ]
  },
  {
   "cell_type": "code",
   "execution_count": 83,
   "metadata": {},
   "outputs": [],
   "source": [
    "data = datasets.load_digits()\n",
    "X = data.data\n",
    "y = data.target\n",
    "X_train, X_test, y_train, y_test = train_test_split(X, y, test_size=0.25, shuffle=False)"
   ]
  },
  {
   "cell_type": "markdown",
   "metadata": {},
   "source": [
    "## 1st task, realize your own 1NN"
   ]
  },
  {
   "cell_type": "code",
   "execution_count": 92,
   "metadata": {},
   "outputs": [],
   "source": [
    "from scipy.spatial.distance import euclidean\n",
    "\n",
    "class kNN:\n",
    "    def __init__(self, X_train, X_test, y_train, y_test):\n",
    "        self.X_train = X_train.copy()\n",
    "        self.y_train = y_train.copy()\n",
    "        self.X_test = X_test.copy()\n",
    "        self.y_test = y_test.copy()\n",
    "        \n",
    "    def oneNN(self):\n",
    "        m = []\n",
    "        for i in range(self.X_test.shape[0]):\n",
    "            minimum_dist = int(1e25)\n",
    "            label = -1\n",
    "            for j in range(self.X_train.shape[0]):\n",
    "                if euclidean(self.X_test[i], self.X_train[j]) < minimum_dist:\n",
    "                    minimum_dist = euclidean(self.X_test[i], self.X_train[j])\n",
    "                    self.y_test[i] = self.y_train[j]  \n",
    "        return self.y_test"
   ]
  },
  {
   "cell_type": "code",
   "execution_count": 93,
   "metadata": {},
   "outputs": [],
   "source": [
    "model = kNN(X_train, X_test, y_train, y_test)\n",
    "answers = model.oneNN()"
   ]
  },
  {
   "cell_type": "code",
   "execution_count": 95,
   "metadata": {},
   "outputs": [
    {
     "name": "stdout",
     "output_type": "stream",
     "text": [
      "0.03777777777777778\n"
     ]
    }
   ],
   "source": [
    "wrong_answers = 0\n",
    "total = y_test.shape[0]\n",
    "for i in range(y_test.shape[0]):\n",
    "    if y_test[i] != answers[i]:\n",
    "        wrong_answers += 1\n",
    "print(wrong_answers / total)"
   ]
  },
  {
   "cell_type": "code",
   "execution_count": 96,
   "metadata": {},
   "outputs": [],
   "source": [
    "with open('1.txt', 'w') as f:\n",
    "    f.write(str(wrong_answers / total))"
   ]
  },
  {
   "cell_type": "markdown",
   "metadata": {},
   "source": [
    "## 2nd task, compare to RandomForestClassfier"
   ]
  },
  {
   "cell_type": "code",
   "execution_count": 69,
   "metadata": {},
   "outputs": [
    {
     "name": "stdout",
     "output_type": "stream",
     "text": [
      "0.06444444444444442\n"
     ]
    }
   ],
   "source": [
    "from sklearn.ensemble import RandomForestClassifier\n",
    "from sklearn.metrics import accuracy_score\n",
    "\n",
    "model = RandomForestClassifier(n_estimators=1000)\n",
    "model.fit(X_train, y_train)\n",
    "result = 1 - accuracy_score(y_test, model.predict(X_test))\n",
    "print(result)\n",
    "\n",
    "with open('2.txt', 'w') as f:\n",
    "    f.write(str(result))"
   ]
  }
 ],
 "metadata": {
  "kernelspec": {
   "display_name": "Python 3",
   "language": "python",
   "name": "python3"
  },
  "language_info": {
   "codemirror_mode": {
    "name": "ipython",
    "version": 3
   },
   "file_extension": ".py",
   "mimetype": "text/x-python",
   "name": "python",
   "nbconvert_exporter": "python",
   "pygments_lexer": "ipython3",
   "version": "3.7.6"
  }
 },
 "nbformat": 4,
 "nbformat_minor": 4
}
