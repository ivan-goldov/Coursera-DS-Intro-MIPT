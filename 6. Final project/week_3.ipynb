{
 "cells": [
  {
   "cell_type": "code",
   "execution_count": 1,
   "id": "therapeutic-fruit",
   "metadata": {},
   "outputs": [],
   "source": [
    "import numpy as np\n",
    "import pandas as pd"
   ]
  },
  {
   "cell_type": "code",
   "execution_count": 2,
   "id": "partial-lodging",
   "metadata": {},
   "outputs": [
    {
     "data": {
      "text/plain": [
       "(40000, 230)"
      ]
     },
     "execution_count": 2,
     "metadata": {},
     "output_type": "execute_result"
    }
   ],
   "source": [
    "X = pd.read_csv('data/orange_small_churn_data.train.csv')\n",
    "y = pd.read_csv('data/orange_small_churn_labels.train.csv', header=None)\n",
    "X.shape"
   ]
  },
  {
   "cell_type": "code",
   "execution_count": 3,
   "id": "nasty-briefs",
   "metadata": {},
   "outputs": [
    {
     "data": {
      "text/plain": [
       "array([-1, -1, -1, ..., -1, -1, -1])"
      ]
     },
     "execution_count": 3,
     "metadata": {},
     "output_type": "execute_result"
    }
   ],
   "source": [
    "y = y[0].ravel()\n",
    "y.reshape((40000,))\n",
    "y"
   ]
  },
  {
   "cell_type": "code",
   "execution_count": 4,
   "id": "atomic-cache",
   "metadata": {},
   "outputs": [],
   "source": [
    "X_dropped = X.dropna(axis=1, thresh=20_000, how=\"any\") "
   ]
  },
  {
   "cell_type": "code",
   "execution_count": 5,
   "id": "commercial-obligation",
   "metadata": {},
   "outputs": [
    {
     "name": "stdout",
     "output_type": "stream",
     "text": [
      "161 columns were dropped\n"
     ]
    }
   ],
   "source": [
    "print(X.shape[1] - X_dropped.shape[1], 'columns were dropped')"
   ]
  },
  {
   "cell_type": "code",
   "execution_count": 6,
   "id": "beginning-indonesian",
   "metadata": {},
   "outputs": [],
   "source": [
    "cat_cols = X_dropped.select_dtypes(exclude=[\"number\",\"bool_\"]).columns\n",
    "num_cols = list(set(X_dropped.columns) - set(cat_cols))"
   ]
  },
  {
   "cell_type": "code",
   "execution_count": 7,
   "id": "alleged-suspension",
   "metadata": {},
   "outputs": [
    {
     "data": {
      "text/plain": [
       "(40000, 36909)"
      ]
     },
     "execution_count": 7,
     "metadata": {},
     "output_type": "execute_result"
    }
   ],
   "source": [
    "X_cat_dummy = pd.get_dummies(X_dropped[cat_cols], sparse=False, dummy_na=True)\n",
    "X_cat_dummy.shape #слишком большая размерность у one-hot энкодера, будем использовать другой способ кодирования"
   ]
  },
  {
   "cell_type": "code",
   "execution_count": 8,
   "id": "curious-karaoke",
   "metadata": {},
   "outputs": [
    {
     "name": "stderr",
     "output_type": "stream",
     "text": [
      "/usr/local/Caskroom/miniconda/base/envs/ml/lib/python3.8/site-packages/pandas/core/frame.py:3188: SettingWithCopyWarning: \n",
      "A value is trying to be set on a copy of a slice from a DataFrame.\n",
      "Try using .loc[row_indexer,col_indexer] = value instead\n",
      "\n",
      "See the caveats in the documentation: https://pandas.pydata.org/pandas-docs/stable/user_guide/indexing.html#returning-a-view-versus-a-copy\n",
      "  self[k1] = value[k2]\n"
     ]
    },
    {
     "data": {
      "text/plain": [
       "(40000, 28)"
      ]
     },
     "execution_count": 8,
     "metadata": {},
     "output_type": "execute_result"
    }
   ],
   "source": [
    "X_dropped[cat_cols] = X_dropped[cat_cols].astype(str)\n",
    "X_dropped[cat_cols] = X_dropped[cat_cols].astype('category')\n",
    "X_cat_code = X_dropped[cat_cols].apply(lambda x: x.cat.codes)\n",
    "X_cat_code.shape"
   ]
  },
  {
   "cell_type": "code",
   "execution_count": 9,
   "id": "least-dimension",
   "metadata": {},
   "outputs": [],
   "source": [
    "from sklearn.preprocessing import StandardScaler\n",
    "\n",
    "\n",
    "X_scaled = pd.DataFrame(StandardScaler().fit_transform(X[num_cols]), columns=num_cols)\n",
    "X_scaled.fillna(0, inplace=True)\n",
    "X_scaled.apply(np.float32);"
   ]
  },
  {
   "cell_type": "code",
   "execution_count": 10,
   "id": "elementary-links",
   "metadata": {},
   "outputs": [
    {
     "data": {
      "text/plain": [
       "(40000, 69)"
      ]
     },
     "execution_count": 10,
     "metadata": {},
     "output_type": "execute_result"
    }
   ],
   "source": [
    "X_processed = pd.concat([X_scaled, X_cat_code], axis=1)\n",
    "X_processed.shape"
   ]
  },
  {
   "cell_type": "code",
   "execution_count": 11,
   "id": "hourly-nowhere",
   "metadata": {},
   "outputs": [
    {
     "name": "stdout",
     "output_type": "stream",
     "text": [
      "0.6393346120786225\n",
      "0.6724877434127284\n",
      "0.7299076371034927\n"
     ]
    }
   ],
   "source": [
    "from sklearn.linear_model import RidgeClassifier\n",
    "from sklearn.ensemble import RandomForestClassifier, GradientBoostingClassifier\n",
    "from sklearn.model_selection import cross_val_score\n",
    "\n",
    "\n",
    "print(cross_val_score(RidgeClassifier(), X_processed, y, scoring='roc_auc').mean())\n",
    "print(cross_val_score(RandomForestClassifier(), X_processed, y, scoring='roc_auc').mean())\n",
    "print(cross_val_score(GradientBoostingClassifier(), X_processed, y, scoring='roc_auc').mean())"
   ]
  },
  {
   "cell_type": "code",
   "execution_count": 12,
   "id": "different-parameter",
   "metadata": {},
   "outputs": [
    {
     "name": "stdout",
     "output_type": "stream",
     "text": [
      "0.4806813457237973\n",
      "0.4823802936684614\n",
      "0.4944593113408584\n"
     ]
    }
   ],
   "source": [
    "print(cross_val_score(RidgeClassifier(), X_processed, y, scoring='f1_macro').mean())\n",
    "print(cross_val_score(RandomForestClassifier(), X_processed, y, scoring='f1_macro').mean())\n",
    "print(cross_val_score(GradientBoostingClassifier(), X_processed, y, scoring='f1_macro').mean())"
   ]
  }
 ],
 "metadata": {
  "kernelspec": {
   "display_name": "ml",
   "language": "python",
   "name": "ml"
  },
  "language_info": {
   "codemirror_mode": {
    "name": "ipython",
    "version": 3
   },
   "file_extension": ".py",
   "mimetype": "text/x-python",
   "name": "python",
   "nbconvert_exporter": "python",
   "pygments_lexer": "ipython3",
   "version": "3.8.5"
  }
 },
 "nbformat": 4,
 "nbformat_minor": 5
}
