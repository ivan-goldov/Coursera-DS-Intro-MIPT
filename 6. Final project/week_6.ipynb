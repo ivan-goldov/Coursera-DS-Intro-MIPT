{
 "cells": [
  {
   "cell_type": "code",
   "execution_count": 1,
   "id": "cooked-defensive",
   "metadata": {},
   "outputs": [],
   "source": [
    "import pandas as pd\n",
    "import numpy as np\n",
    "\n",
    "import warnings\n",
    "warnings.filterwarnings('ignore')"
   ]
  },
  {
   "cell_type": "code",
   "execution_count": 2,
   "id": "urban-maximum",
   "metadata": {},
   "outputs": [],
   "source": [
    "def code_cat_cols(X, cat_cols):\n",
    "    return X[cat_cols].astype(str).astype('category').apply(lambda x: x.cat.codes)\n",
    "\n",
    "\n",
    "def scale_num_cols(X, num_cols):\n",
    "    return pd.DataFrame(StandardScaler().fit_transform(X[num_cols]), columns=num_cols).fillna(0).apply(np.float32)\n",
    "\n",
    "def find_cat_num_cols(X):\n",
    "    cat_cols = X.select_dtypes(exclude=[\"number\",\"bool_\"]).columns\n",
    "    num_cols = list(set(X.columns) - set(cat_cols))\n",
    "    return cat_cols, num_cols\n",
    "\n",
    "\n",
    "def full_preprocess(X):\n",
    "    cat_cols, num_cols = find_cat_num_cols(X)\n",
    "    return pd.concat([code_cat_cols(X, cat_cols), scale_num_cols(X, num_cols)], axis=1)"
   ]
  },
  {
   "cell_type": "markdown",
   "id": "communist-mainstream",
   "metadata": {},
   "source": [
    "Построим модель на основе результатов пятой недели"
   ]
  },
  {
   "cell_type": "code",
   "execution_count": 3,
   "id": "violent-whale",
   "metadata": {},
   "outputs": [],
   "source": [
    "from imblearn.under_sampling import EditedNearestNeighbours\n",
    "from sklearn.ensemble import RandomForestClassifier\n",
    "from sklearn.feature_selection import SelectFromModel\n",
    "from sklearn.model_selection import train_test_split\n",
    "from sklearn.preprocessing import StandardScaler\n",
    "from xgboost import XGBClassifier\n",
    "\n",
    "\n",
    "X = pd.read_csv('data/orange_small_churn_data.train.csv')\n",
    "y = pd.read_csv('data/orange_small_churn_labels.train.csv', header=None)\n",
    "\n",
    "X_dropped = X.dropna(axis=1, thresh=20_000, how=\"any\") \n",
    "X_processed = full_preprocess(X_dropped)\n",
    "\n",
    "X_new, _, y_new, _ = train_test_split(X_processed, y, train_size=17_000)\n",
    "X_resampled, y_final = EditedNearestNeighbours().fit_resample(X_new, y_new)\n",
    "\n",
    "rf = RandomForestClassifier().fit(X_resampled, y_final)\n",
    "m = SelectFromModel(rf, prefit=True)\n",
    "X_final = m.transform(X_resampled)\n",
    "\n",
    "model = XGBClassifier(n_estimators=100, learning_rate=0.1, max_depth=2, verbosity=0)\n",
    "model.fit(X_final, y_final);"
   ]
  },
  {
   "cell_type": "code",
   "execution_count": 4,
   "id": "palestinian-allowance",
   "metadata": {},
   "outputs": [
    {
     "name": "stdout",
     "output_type": "stream",
     "text": [
      "0.7105966562396812\n"
     ]
    }
   ],
   "source": [
    "from sklearn.model_selection import cross_val_score\n",
    "\n",
    "\n",
    "print(cross_val_score(model, X_final, y_final, scoring='roc_auc', cv=5).mean())"
   ]
  },
  {
   "cell_type": "markdown",
   "id": "micro-violation",
   "metadata": {},
   "source": [
    "- сколько денег в среднем приносит один пользователь в месяц  \n",
    "- сколько денег в среднем вы будете вкладывать в удержание одного пользователя \n",
    "- с какой вероятностью пользователь примет ваше предложение \n",
    "- сколько пользователей будет участвовать в кампании "
   ]
  },
  {
   "cell_type": "code",
   "execution_count": 60,
   "id": "ultimate-answer",
   "metadata": {},
   "outputs": [],
   "source": [
    "def effect(df, t, rpc, ret_cost, p):\n",
    "    num_clients = int(df.shape[0] * t)\n",
    "    true_positive = df.iloc[:num_clients].iloc[0].sum()\n",
    "    costs = num_clients * ret_cost \n",
    "    revenue = num_clients * p * rpc \n",
    "    return revenue - costs\n"
   ]
  },
  {
   "cell_type": "code",
   "execution_count": 74,
   "id": "micro-hughes",
   "metadata": {},
   "outputs": [
    {
     "data": {
      "image/png": "[encoded data removed]",
      "text/plain": [
       "<Figure size 432x288 with 1 Axes>"
      ]
     },
     "metadata": {
      "needs_background": "light"
     },
     "output_type": "display_data"
    }
   ],
   "source": [
    "import matplotlib.pyplot as plt\n",
    "\n",
    "\n",
    "ret_costs = np.arange(100, 1100, 100)\n",
    "top = np.arange(0.1, 0.7, 0.1)\n",
    "effects = []\n",
    "tops = []\n",
    "for ret_cost in ret_costs:\n",
    "    effects = np.array([[effect(y, t, 2000, ret_cost, 0.4), t] for t in top])\n",
    "    tops.append(effects[effects[:, 0].argsort()][-1][1])\n",
    "plt.plot(ret_costs, tops);"
   ]
  },
  {
   "cell_type": "markdown",
   "id": "juvenile-break",
   "metadata": {},
   "source": [
    "видно, что чем выше стоимость удержания, тем меньше оптимальный размер топа"
   ]
  },
  {
   "cell_type": "markdown",
   "id": "enormous-truth",
   "metadata": {},
   "source": [
    "4. Всегда ли применение модели экономически оправданно? Приведите пример набора значений параметров, при которых применение модели перестает быть оправданным.\n",
    "\n",
    "не всегда. Применение модели не оправдано, если стоимость удержания пользователя превышает доход от него"
   ]
  },
  {
   "cell_type": "markdown",
   "id": "golden-thanks",
   "metadata": {},
   "source": [
    "6. Как вы думаете, является ли экономически оправданным вложение средств в улучшение качества модели? На сколько нужно улучшить модель, чтобы это качественно сказалось на экономическом эффекте от удержания?\n",
    "\n",
    "вложение средств является экономически оправданным, если увеличение экономического эффекта превышает вложения"
   ]
  },
  {
   "cell_type": "code",
   "execution_count": null,
   "id": "silent-president",
   "metadata": {},
   "outputs": [],
   "source": []
  }
 ],
 "metadata": {
  "kernelspec": {
   "display_name": "ml",
   "language": "python",
   "name": "ml"
  },
  "language_info": {
   "codemirror_mode": {
    "name": "ipython",
    "version": 3
   },
   "file_extension": ".py",
   "mimetype": "text/x-python",
   "name": "python",
   "nbconvert_exporter": "python",
   "pygments_lexer": "ipython3",
   "version": "3.8.5"
  }
 },
 "nbformat": 4,
 "nbformat_minor": 5
}
