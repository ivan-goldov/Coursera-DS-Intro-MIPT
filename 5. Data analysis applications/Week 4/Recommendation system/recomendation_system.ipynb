{
 "cells": [
  {
   "cell_type": "code",
   "execution_count": 1,
   "metadata": {},
   "outputs": [
    {
     "name": "stdout",
     "output_type": "stream",
     "text": [
      "Populating the interactive namespace from numpy and matplotlib\n"
     ]
    }
   ],
   "source": [
    "import warnings\n",
    "warnings.filterwarnings('ignore')\n",
    "\n",
    "import numpy as np\n",
    "import pandas as pd\n",
    "import matplotlib.pyplot as plt\n",
    "import seaborn as sns\n",
    "from scipy import stats\n",
    "%pylab inline"
   ]
  },
  {
   "cell_type": "code",
   "execution_count": 5,
   "metadata": {},
   "outputs": [
    {
     "data": {
      "text/plain": [
       "[[0, 1, 2, 3, 4, 5],\n",
       " [9, 10, 11, 9, 11, 12, 9, 11],\n",
       " [16, 17, 18, 19, 20, 21],\n",
       " [24, 25, 26, 27, 24],\n",
       " [34, 35, 36, 34, 37, 35, 36, 37, 38, 39, 38, 39],\n",
       " [42],\n",
       " [47, 48, 49],\n",
       " [59, 60, 61, 62, 60, 63, 64, 65, 66, 61, 67, 68, 67],\n",
       " [71, 72, 73, 74],\n",
       " [76, 77, 78]]"
      ]
     },
     "execution_count": 5,
     "metadata": {},
     "output_type": "execute_result"
    }
   ],
   "source": [
    "seen = []\n",
    "bought = []\n",
    "with open('coursera_sessions_train.txt', 'r') as f:\n",
    "    for line in f:\n",
    "        i = line.find(';')\n",
    "        seen.append(list(map(int, line[:i].split(','))))\n",
    "        try:\n",
    "            bought.append(list(map(int, line[i+1:].split(','))))\n",
    "        except ValueError:\n",
    "            bought.append([])\n",
    "seen[:10]"
   ]
  },
  {
   "cell_type": "code",
   "execution_count": 6,
   "metadata": {},
   "outputs": [
    {
     "data": {
      "text/plain": [
       "[[], [], [], [], [], [], [], [67, 60, 63], [], []]"
      ]
     },
     "execution_count": 6,
     "metadata": {},
     "output_type": "execute_result"
    }
   ],
   "source": [
    "bought[:10]"
   ]
  },
  {
   "cell_type": "code",
   "execution_count": 29,
   "metadata": {},
   "outputs": [
    {
     "name": "stdout",
     "output_type": "stream",
     "text": [
      "356177\n"
     ]
    }
   ],
   "source": [
    "id_seen_freq = dict()\n",
    "sum_seen = 0\n",
    "for i in seen:\n",
    "    sum_seen += len(i)\n",
    "print(sum_seen)"
   ]
  },
  {
   "cell_type": "code",
   "execution_count": 30,
   "metadata": {},
   "outputs": [
    {
     "name": "stdout",
     "output_type": "stream",
     "text": [
      "5374\n"
     ]
    }
   ],
   "source": [
    "id_bought_freq = dict()\n",
    "sum_bought = 0\n",
    "for i in bought:\n",
    "    sum_bought += len(i)\n",
    "print(sum_bought)"
   ]
  },
  {
   "cell_type": "code",
   "execution_count": 42,
   "metadata": {},
   "outputs": [],
   "source": [
    "id_seen = dict()\n",
    "id_bought = dict()\n",
    "for i in seen:\n",
    "    for j in i:\n",
    "        try:\n",
    "            id_seen[j] += 1\n",
    "        except KeyError:\n",
    "            id_seen[j] = 1\n",
    "for i in bought:\n",
    "    for j in i:\n",
    "        try:\n",
    "            id_bought[j] += 1\n",
    "        except KeyError:\n",
    "            id_bought[j] = 1"
   ]
  },
  {
   "cell_type": "code",
   "execution_count": 32,
   "metadata": {},
   "outputs": [],
   "source": [
    "for k in id_seen:\n",
    "    id_seen_freq[k] = id_seen[k] / sum_seen\n",
    "for k in id_bought:\n",
    "    id_bought_freq[k] = id_bought[k] / sum_bought"
   ]
  },
  {
   "cell_type": "code",
   "execution_count": 33,
   "metadata": {},
   "outputs": [
    {
     "name": "stdout",
     "output_type": "stream",
     "text": [
      "0.9999999999991839 1.0000000000000913\n"
     ]
    }
   ],
   "source": [
    "control_sum_1 = 0\n",
    "for k in id_seen_freq:\n",
    "    control_sum_1 += id_seen_freq[k]\n",
    "control_sum_2 = 0\n",
    "for k in id_bought_freq:\n",
    "    control_sum_2 += id_bought_freq[k]\n",
    "print(control_sum_1, control_sum_2)"
   ]
  },
  {
   "cell_type": "code",
   "execution_count": 36,
   "metadata": {},
   "outputs": [],
   "source": [
    "seen_sorted = {k: v for k, v in sorted(id_seen_freq.items(), key=lambda item: item[1])}\n",
    "bought_sorted = {k: v for k, v in sorted(id_bought_freq.items(), key=lambda item: item[1])}"
   ]
  },
  {
   "cell_type": "code",
   "execution_count": 46,
   "metadata": {},
   "outputs": [],
   "source": [
    "tmp1 = {k: v for k, v in sorted(id_seen.items(), key=lambda item: item[1], reverse=True)}\n",
    "tmp2 = {k: v for k, v in sorted(id_bought.items(), key=lambda item: item[1], reverse=True)}"
   ]
  },
  {
   "cell_type": "code",
   "execution_count": 51,
   "metadata": {},
   "outputs": [
    {
     "name": "stdout",
     "output_type": "stream",
     "text": [
      "73 :  677\n",
      "158 :  641\n",
      "204 :  396\n",
      "262 :  387\n",
      "162 :  318\n"
     ]
    }
   ],
   "source": [
    "i = 0\n",
    "for k in tmp1:\n",
    "    print(k, ': ', tmp1[k])\n",
    "    i += 1\n",
    "    if i > 4:\n",
    "        break"
   ]
  },
  {
   "cell_type": "code",
   "execution_count": 50,
   "metadata": {},
   "outputs": [
    {
     "name": "stdout",
     "output_type": "stream",
     "text": [
      "158 :  14\n",
      "204 :  12\n",
      "3324 :  11\n",
      "73 :  11\n",
      "5569 :  10\n"
     ]
    }
   ],
   "source": [
    "i = 0\n",
    "for k in tmp2:\n",
    "    print(k, ': ', tmp2[k])\n",
    "    i += 1\n",
    "    if i > 4:\n",
    "        break"
   ]
  },
  {
   "cell_type": "code",
   "execution_count": null,
   "metadata": {},
   "outputs": [],
   "source": []
  },
  {
   "cell_type": "code",
   "execution_count": null,
   "metadata": {},
   "outputs": [],
   "source": [
    "#считаем AveragePresicion@1 и AverageRecall@1\n",
    "ap1 = 0\n",
    "ar1 = 0\n",
    "ap5 = "
   ]
  }
 ],
 "metadata": {
  "kernelspec": {
   "display_name": "Python 3",
   "language": "python",
   "name": "python3"
  },
  "language_info": {
   "codemirror_mode": {
    "name": "ipython",
    "version": 3
   },
   "file_extension": ".py",
   "mimetype": "text/x-python",
   "name": "python",
   "nbconvert_exporter": "python",
   "pygments_lexer": "ipython3",
   "version": "3.7.7"
  }
 },
 "nbformat": 4,
 "nbformat_minor": 4
}
