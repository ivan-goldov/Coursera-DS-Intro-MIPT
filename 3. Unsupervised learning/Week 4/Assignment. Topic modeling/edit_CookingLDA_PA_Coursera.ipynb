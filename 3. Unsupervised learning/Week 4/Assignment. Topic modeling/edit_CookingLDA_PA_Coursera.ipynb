{
  "nbformat": 4,
  "nbformat_minor": 0,
  "metadata": {
    "kernelspec": {
      "display_name": "Python 3",
      "language": "python",
      "name": "python3"
    },
    "language_info": {
      "codemirror_mode": {
        "name": "ipython",
        "version": 3
      },
      "file_extension": ".py",
      "mimetype": "text/x-python",
      "name": "python",
      "nbconvert_exporter": "python",
      "pygments_lexer": "ipython3",
      "version": "3.7.6"
    },
    "colab": {
      "name": "edit_CookingLDA_PA_Coursera.ipynb",
      "provenance": [],
      "collapsed_sections": [
        "3in1dOSyU9pk",
        "RRU5qHVLU9p1",
        "E1jItaTRU9p_",
        "5udRQe9HU9qD",
        "KEs8GYWBU9qP"
      ]
    }
  },
  "cells": [
    {
      "cell_type": "markdown",
      "metadata": {
        "id": "cYPzY1GxU9ot",
        "colab_type": "text"
      },
      "source": [
        "# Programming Assignment: \n",
        "## Готовим LDA по рецептам"
      ]
    },
    {
      "cell_type": "markdown",
      "metadata": {
        "id": "GwBULcotU9ou",
        "colab_type": "text"
      },
      "source": [
        "Как вы уже знаете, в тематическом моделировании делается предположение о том, что для определения тематики порядок слов в документе не важен; об этом гласит гипотеза «мешка слов». Сегодня мы будем работать с несколько нестандартной для тематического моделирования коллекцией, которую можно назвать «мешком ингредиентов», потому что на состоит из рецептов блюд разных кухонь. Тематические модели ищут слова, которые часто вместе встречаются в документах, и составляют из них темы. Мы попробуем применить эту идею к рецептам и найти кулинарные «темы». Эта коллекция хороша тем, что не требует предобработки. Кроме того, эта задача достаточно наглядно иллюстрирует принцип работы тематических моделей.\n",
        "\n",
        "Для выполнения заданий, помимо часто используемых в курсе библиотек, потребуются модули *json* и *gensim*. Первый входит в дистрибутив Anaconda, второй можно поставить командой \n",
        "\n",
        "*pip install gensim*\n",
        "\n",
        "Построение модели занимает некоторое время. На ноутбуке с процессором Intel Core i7 и тактовой частотой 2400 МГц на построение одной модели уходит менее 10 минут."
      ]
    },
    {
      "cell_type": "markdown",
      "metadata": {
        "id": "t5sLbv68U9ou",
        "colab_type": "text"
      },
      "source": [
        "### Загрузка данных"
      ]
    },
    {
      "cell_type": "markdown",
      "metadata": {
        "id": "gIsY08ddU9ov",
        "colab_type": "text"
      },
      "source": [
        "Коллекция дана в json-формате: для каждого рецепта известны его id, кухня (cuisine) и список ингредиентов, в него входящих. Загрузить данные можно с помощью модуля json (он входит в дистрибутив Anaconda):"
      ]
    },
    {
      "cell_type": "code",
      "metadata": {
        "id": "w0rQ04jfU9ov",
        "colab_type": "code",
        "colab": {}
      },
      "source": [
        "#installed old gensim, numpy and scipy\n",
        "import json"
      ],
      "execution_count": null,
      "outputs": []
    },
    {
      "cell_type": "code",
      "metadata": {
        "id": "j_7iFtOXU9oy",
        "colab_type": "code",
        "colab": {
          "base_uri": "https://localhost:8080/",
          "height": 51
        },
        "outputId": "4c334145-d782-4ba9-cb5d-6bde2025dccf"
      },
      "source": [
        "from google.colab import drive\n",
        "drive.mount('/gdrive')\n",
        "%cd /gdrive \n",
        "drive_path = \"/gdrive/My Drive/Colab Notebooks/\"\n",
        "with open(drive_path + \"/recipes.json\") as f:\n",
        "    recipes = json.load(f)"
      ],
      "execution_count": null,
      "outputs": [
        {
          "output_type": "stream",
          "text": [
            "Drive already mounted at /gdrive; to attempt to forcibly remount, call drive.mount(\"/gdrive\", force_remount=True).\n",
            "/gdrive\n"
          ],
          "name": "stdout"
        }
      ]
    },
    {
      "cell_type": "code",
      "metadata": {
        "id": "XNt6x1A2U9o2",
        "colab_type": "code",
        "colab": {
          "base_uri": "https://localhost:8080/",
          "height": 54
        },
        "outputId": "7e218b1f-8ff7-4cf5-d8dc-566ef977ef3e"
      },
      "source": [
        "print(recipes[0])"
      ],
      "execution_count": null,
      "outputs": [
        {
          "output_type": "stream",
          "text": [
            "{'id': 10259, 'cuisine': 'greek', 'ingredients': ['romaine lettuce', 'black olives', 'grape tomatoes', 'garlic', 'pepper', 'purple onion', 'seasoning', 'garbanzo beans', 'feta cheese crumbles']}\n"
          ],
          "name": "stdout"
        }
      ]
    },
    {
      "cell_type": "markdown",
      "metadata": {
        "id": "bDh5kM2XU9o5",
        "colab_type": "text"
      },
      "source": [
        "### Составление корпуса"
      ]
    },
    {
      "cell_type": "code",
      "metadata": {
        "id": "Iflc1UWOU9o5",
        "colab_type": "code",
        "colab": {}
      },
      "source": [
        "from gensim import corpora, models\n",
        "import numpy as np"
      ],
      "execution_count": null,
      "outputs": []
    },
    {
      "cell_type": "markdown",
      "metadata": {
        "id": "mEGO3CQ4U9o8",
        "colab_type": "text"
      },
      "source": [
        "Наша коллекция небольшая, и целиком помещается в оперативную память. Gensim может работать с такими данными и не требует их сохранения на диск в специальном формате. Для этого коллекция должна быть представлена в виде списка списков, каждый внутренний список соответствует отдельному документу и состоит из его слов. Пример коллекции из двух документов: \n",
        "\n",
        "[[\"hello\", \"world\"], [\"programming\", \"in\", \"python\"]]\n",
        "\n",
        "Преобразуем наши данные в такой формат, а затем создадим объекты corpus и dictionary, с которыми будет работать модель."
      ]
    },
    {
      "cell_type": "code",
      "metadata": {
        "id": "gKx3dXrFU9o9",
        "colab_type": "code",
        "colab": {}
      },
      "source": [
        "texts = [recipe[\"ingredients\"] for recipe in recipes]\n",
        "dictionary = corpora.Dictionary(texts)   # составляем словарь\n",
        "corpus = [dictionary.doc2bow(text) for text in texts]  # составляем корпус документов"
      ],
      "execution_count": null,
      "outputs": []
    },
    {
      "cell_type": "code",
      "metadata": {
        "id": "P7UIuLEWU9o_",
        "colab_type": "code",
        "colab": {
          "base_uri": "https://localhost:8080/",
          "height": 51
        },
        "outputId": "023de8b4-b550-4735-844f-51a7cb7e2b27"
      },
      "source": [
        "print(texts[0])\n",
        "print(corpus[0])"
      ],
      "execution_count": null,
      "outputs": [
        {
          "output_type": "stream",
          "text": [
            "['romaine lettuce', 'black olives', 'grape tomatoes', 'garlic', 'pepper', 'purple onion', 'seasoning', 'garbanzo beans', 'feta cheese crumbles']\n",
            "[(0, 1), (1, 1), (2, 1), (3, 1), (4, 1), (5, 1), (6, 1), (7, 1), (8, 1)]\n"
          ],
          "name": "stdout"
        }
      ]
    },
    {
      "cell_type": "markdown",
      "metadata": {
        "id": "piNgQwKHU9pB",
        "colab_type": "text"
      },
      "source": [
        "У объекта dictionary есть полезная переменная dictionary.token2id, позволяющая находить соответствие между ингредиентами и их индексами."
      ]
    },
    {
      "cell_type": "markdown",
      "metadata": {
        "id": "8QTYpzlWU9pC",
        "colab_type": "text"
      },
      "source": [
        "### Обучение модели\n",
        "Вам может понадобиться [документация](https://radimrehurek.com/gensim/models/ldamodel.html) LDA в gensim."
      ]
    },
    {
      "cell_type": "markdown",
      "metadata": {
        "id": "Esq05-gcU9pC",
        "colab_type": "text"
      },
      "source": [
        "__Задание 1.__ Обучите модель LDA с 40 темами, установив количество проходов по коллекции 5 и оставив остальные параметры по умолчанию. \n",
        "\n",
        "\n",
        "Затем вызовите метод модели *show_topics*, указав количество тем 40 и количество токенов 10, и сохраните результат (топы ингредиентов в темах) в отдельную переменную. Если при вызове метода *show_topics* указать параметр *formatted=True*, то топы ингредиентов будет удобно выводить на печать, если *formatted=False*, будет удобно работать со списком программно. Выведите топы на печать, рассмотрите темы, а затем ответьте на вопрос:\n",
        "\n",
        "Сколько раз ингредиенты \"salt\", \"sugar\", \"water\", \"mushrooms\", \"chicken\", \"eggs\" встретились среди топов-10 всех 40 тем? При ответе __не нужно__ учитывать составные ингредиенты, например, \"hot water\".\n",
        "\n",
        "Передайте 6 чисел в функцию save_answers1 и загрузите сгенерированный файл в форму.\n",
        "\n",
        "У gensim нет возможности фиксировать случайное приближение через параметры метода, но библиотека использует numpy для инициализации матриц. Поэтому, по утверждению автора библиотеки, фиксировать случайное приближение нужно командой, которая написана в следующей ячейке. __Перед строкой кода с построением модели обязательно вставляйте указанную строку фиксации random.seed.__"
      ]
    },
    {
      "cell_type": "code",
      "metadata": {
        "id": "75noYPTTU9pD",
        "colab_type": "code",
        "colab": {
          "base_uri": "https://localhost:8080/",
          "height": 51
        },
        "outputId": "9b7f5014-97dc-4f29-b2da-8f68c45c5fcc"
      },
      "source": [
        "%%time\n",
        "np.random.seed(76543)\n",
        "# здесь код для построения модели:\n",
        "model = models.ldamodel.LdaModel(corpus, id2word=dictionary, num_topics=40, passes=5)"
      ],
      "execution_count": null,
      "outputs": [
        {
          "output_type": "stream",
          "text": [
            "CPU times: user 5min 38s, sys: 313 ms, total: 5min 38s\n",
            "Wall time: 5min 38s\n"
          ],
          "name": "stdout"
        }
      ]
    },
    {
      "cell_type": "code",
      "metadata": {
        "id": "vzE4wcXRU9pF",
        "colab_type": "code",
        "colab": {}
      },
      "source": [
        "top = model.show_topics(num_topics=40, num_words=10, formatted=False)"
      ],
      "execution_count": null,
      "outputs": []
    },
    {
      "cell_type": "code",
      "metadata": {
        "id": "xU9zlYclU9pH",
        "colab_type": "code",
        "colab": {}
      },
      "source": [
        "words = []\n",
        "for i in top:\n",
        "  for j in i[1]:\n",
        "    words.append(j[0])\n",
        "  c_salt = words.count('salt')\n",
        "  c_sugar = words.count('sugar')\n",
        "  c_water = words.count('water')\n",
        "  c_mushrooms = words.count('mushrooms')\n",
        "  c_chicken = words.count('chicken')\n",
        "  c_eggs = words.count('eggs')\n"
      ],
      "execution_count": null,
      "outputs": []
    },
    {
      "cell_type": "code",
      "metadata": {
        "id": "KjXIJQu5uxwL",
        "colab_type": "code",
        "colab": {
          "base_uri": "https://localhost:8080/",
          "height": 34
        },
        "outputId": "6a6579bc-1819-4909-be32-ed9a9f2370f1"
      },
      "source": [
        "print(c_salt, end=' ')\n",
        "print(c_sugar, end=' ')\n",
        "print(c_water, end=' ')\n",
        "print(c_mushrooms, end=' ')\n",
        "print(c_chicken, end=' ')\n",
        "print(c_eggs, end ='')"
      ],
      "execution_count": null,
      "outputs": [
        {
          "output_type": "stream",
          "text": [
            "19 8 10 0 1 2"
          ],
          "name": "stdout"
        }
      ]
    },
    {
      "cell_type": "code",
      "metadata": {
        "id": "Die1Rq7vU9pJ",
        "colab_type": "code",
        "colab": {}
      },
      "source": [
        "def save_answers1(c_salt, c_sugar, c_water, c_mushrooms, c_chicken, c_eggs):\n",
        "    with open(\"cooking_LDA_pa_task1.txt\", \"w\") as fout:\n",
        "        fout.write(\" \".join([str(el) for el in [c_salt, c_sugar, c_water, c_mushrooms, c_chicken, c_eggs]]))"
      ],
      "execution_count": null,
      "outputs": []
    },
    {
      "cell_type": "markdown",
      "metadata": {
        "id": "4ijc4q_vU9pM",
        "colab_type": "text"
      },
      "source": [
        "### Фильтрация словаря\n",
        "В топах тем гораздо чаще встречаются первые три рассмотренных ингредиента, чем последние три. При этом наличие в рецепте курицы, яиц и грибов яснее дает понять, что мы будем готовить, чем наличие соли, сахара и воды. Таким образом, даже в рецептах есть слова, часто встречающиеся в текстах и не несущие смысловой нагрузки, и поэтому их не желательно видеть в темах. Наиболее простой прием борьбы с такими фоновыми элементами — фильтрация словаря по частоте. Обычно словарь фильтруют с двух сторон: убирают очень редкие слова (в целях экономии памяти) и очень частые слова (в целях повышения интерпретируемости тем). Мы уберем только частые слова."
      ]
    },
    {
      "cell_type": "code",
      "metadata": {
        "id": "m6b-O987U9pN",
        "colab_type": "code",
        "colab": {}
      },
      "source": [
        "import copy\n",
        "dictionary2 = copy.deepcopy(dictionary)"
      ],
      "execution_count": null,
      "outputs": []
    },
    {
      "cell_type": "markdown",
      "metadata": {
        "id": "qWkEVlgcU9pP",
        "colab_type": "text"
      },
      "source": [
        "__Задание 2.__ У объекта dictionary2 есть переменная *dfs* — это словарь, ключами которого являются id токена, а элементами — число раз, сколько слово встретилось во всей коллекции. Сохраните в отдельный список ингредиенты, которые встретились в коллекции больше 4000 раз. Вызовите метод словаря *filter_tokens*, подав в качестве первого аргумента полученный список популярных ингредиентов. Вычислите две величины: dict_size_before и dict_size_after — размер словаря до и после фильтрации.\n",
        "\n",
        "Затем, используя новый словарь, создайте новый корпус документов, corpus2, по аналогии с тем, как это сделано в начале ноутбука. Вычислите две величины: corpus_size_before и corpus_size_after — суммарное количество ингредиентов в корпусе (для каждого документа вычислите число различных ингредиентов в нем и просуммируйте по всем документам) до и после фильтрации.\n",
        "\n",
        "Передайте величины dict_size_before, dict_size_after, corpus_size_before, corpus_size_after в функцию save_answers2 и загрузите сгенерированный файл в форму."
      ]
    },
    {
      "cell_type": "code",
      "metadata": {
        "id": "MfT17y0BU9pP",
        "colab_type": "code",
        "colab": {
          "base_uri": "https://localhost:8080/",
          "height": 34
        },
        "outputId": "9534e96a-6f2a-4a21-e9fe-9a601aacb303"
      },
      "source": [
        "frequent_elements = []\n",
        "for i in dictionary2.dfs.keys():\n",
        "  if dictionary2.dfs[i] > 4000:\n",
        "    frequent_elements.append(i)\n",
        "dict_size_before = len(dictionary2)\n",
        "dictionary2.filter_tokens(frequent_elements)\n",
        "dict_size_after = len(dictionary2)\n",
        "print(dict_size_before, dict_size_after)"
      ],
      "execution_count": null,
      "outputs": [
        {
          "output_type": "stream",
          "text": [
            "6714 6702\n"
          ],
          "name": "stdout"
        }
      ]
    },
    {
      "cell_type": "code",
      "metadata": {
        "id": "NoqxLxHDU9pU",
        "colab_type": "code",
        "colab": {
          "base_uri": "https://localhost:8080/",
          "height": 34
        },
        "outputId": "8c5eb0c9-04ff-4995-9ff4-2d72add14a4e"
      },
      "source": [
        "corpus2 = [dictionary2.doc2bow(text) for text in texts]\n",
        "corpus_size_before = 0\n",
        "for i in corpus:\n",
        "  corpus_size_before += len(i)\n",
        "corpus_size_after = 0\n",
        "for i in corpus2:\n",
        "  corpus_size_after += len(i)\n",
        "print(corpus_size_before, corpus_size_after)"
      ],
      "execution_count": null,
      "outputs": [
        {
          "output_type": "stream",
          "text": [
            "428249 343665\n"
          ],
          "name": "stdout"
        }
      ]
    },
    {
      "cell_type": "code",
      "metadata": {
        "id": "nGBXxPutU9pY",
        "colab_type": "code",
        "colab": {}
      },
      "source": [
        "def save_answers2(dict_size_before, dict_size_after, corpus_size_before, corpus_size_after):\n",
        "    with open(\"cooking_LDA_pa_task2.txt\", \"w\") as fout:\n",
        "        fout.write(\" \".join([str(el) for el in [dict_size_before, dict_size_after, corpus_size_before, corpus_size_after]]))"
      ],
      "execution_count": null,
      "outputs": []
    },
    {
      "cell_type": "markdown",
      "metadata": {
        "id": "WF-EFNjeU9pa",
        "colab_type": "text"
      },
      "source": [
        "### Сравнение когерентностей\n",
        "__Задание 3.__ Постройте еще одну модель по корпусу corpus2 и словарю dictionary2, остальные параметры оставьте такими же, как при первом построении модели. Сохраните новую модель в другую переменную (не перезаписывайте предыдущую модель). Не забудьте про фиксирование seed!\n",
        "\n",
        "Затем воспользуйтесь методом *top_topics* модели, чтобы вычислить ее когерентность. Передайте в качестве аргумента соответствующий модели корпус. Метод вернет список кортежей (топ токенов, когерентность), отсортированных по убыванию последней. Вычислите среднюю по всем темам когерентность для каждой из двух моделей и передайте в функцию save_answers3. "
      ]
    },
    {
      "cell_type": "code",
      "metadata": {
        "id": "s70h6CMuU9pa",
        "colab_type": "code",
        "colab": {
          "base_uri": "https://localhost:8080/",
          "height": 51
        },
        "outputId": "5b980ce6-a08c-4282-8e12-0c947ef056d9"
      },
      "source": [
        "%%time\n",
        "np.random.seed(76543)\n",
        "model2 = models.ldamodel.LdaModel(corpus2, id2word=dictionary2, num_topics=40, passes=5)"
      ],
      "execution_count": null,
      "outputs": [
        {
          "output_type": "stream",
          "text": [
            "CPU times: user 5min 8s, sys: 259 ms, total: 5min 8s\n",
            "Wall time: 5min 9s\n"
          ],
          "name": "stdout"
        }
      ]
    },
    {
      "cell_type": "code",
      "metadata": {
        "id": "C6DSHEY4U9pe",
        "colab_type": "code",
        "colab": {}
      },
      "source": [
        "def mean_coherence(top_topics):\n",
        "  mean = 0\n",
        "  q = 0\n",
        "  for i in top_topics:\n",
        "    for j in i:\n",
        "      if type(j) != np.float64:\n",
        "        for k in j:\n",
        "          mean += k[0]\n",
        "          q += 1\n",
        "  return mean / len(top_topics)"
      ],
      "execution_count": null,
      "outputs": []
    },
    {
      "cell_type": "code",
      "metadata": {
        "id": "9XV7pAz24bEy",
        "colab_type": "code",
        "colab": {}
      },
      "source": [
        "def mean_coherence2(top_topics):\n",
        "  mean = 0\n",
        "  q = 0\n",
        "  for i in top_topics:\n",
        "    for j in i:\n",
        "      if type(j) == np.float64:\n",
        "        mean += j\n",
        "        q += 1\n",
        "  return mean / len(top_topics)"
      ],
      "execution_count": null,
      "outputs": []
    },
    {
      "cell_type": "code",
      "metadata": {
        "id": "V7MsOSwjU9pf",
        "colab_type": "code",
        "colab": {
          "base_uri": "https://localhost:8080/",
          "height": 34
        },
        "outputId": "76d3caff-da50-4bad-9741-9e5979dcde09"
      },
      "source": [
        "print(mean_coherence2(model.top_topics(corpus)), mean_coherence2(model2.top_topics(corpus2)))"
      ],
      "execution_count": null,
      "outputs": [
        {
          "output_type": "stream",
          "text": [
            "-703.2019367755067 -747.6959617371538\n"
          ],
          "name": "stdout"
        }
      ]
    },
    {
      "cell_type": "code",
      "metadata": {
        "id": "jdTTCGUVU9ph",
        "colab_type": "code",
        "colab": {}
      },
      "source": [
        "def save_answers3(coherence, coherence2):\n",
        "    with open(\"cooking_LDA_pa_task3.txt\", \"w\") as fout:\n",
        "        fout.write(\" \".join([\"%3f\"%el for el in [coherence, coherence2]]))"
      ],
      "execution_count": null,
      "outputs": []
    },
    {
      "cell_type": "markdown",
      "metadata": {
        "id": "YoJbQjhqU9pk",
        "colab_type": "text"
      },
      "source": [
        "Считается, что когерентность хорошо соотносится с человеческими оценками интерпретируемости тем. Поэтому на больших текстовых коллекциях когерентность обычно повышается, если убрать фоновую лексику. Однако в нашем случае этого не произошло. "
      ]
    },
    {
      "cell_type": "markdown",
      "metadata": {
        "id": "3in1dOSyU9pk",
        "colab_type": "text"
      },
      "source": [
        "### Изучение влияния гиперпараметра alpha"
      ]
    },
    {
      "cell_type": "markdown",
      "metadata": {
        "id": "nIJtdT6RU9pk",
        "colab_type": "text"
      },
      "source": [
        "В этом разделе мы будем работать со второй моделью, то есть той, которая построена по сокращенному корпусу. \n",
        "\n",
        "Пока что мы посмотрели только на матрицу темы-слова, теперь давайте посмотрим на матрицу темы-документы. Выведите темы для нулевого (или любого другого) документа из корпуса, воспользовавшись методом *get_document_topics* второй модели:"
      ]
    },
    {
      "cell_type": "code",
      "metadata": {
        "id": "TPZL9e9jU9pl",
        "colab_type": "code",
        "colab": {
          "base_uri": "https://localhost:8080/",
          "height": 34
        },
        "outputId": "45ba10fc-b8d4-43f5-ff87-ee7f0e7fa1ea"
      },
      "source": [
        "topics = model2.get_document_topics(corpus2[0])\n",
        "print(topics)"
      ],
      "execution_count": null,
      "outputs": [
        {
          "output_type": "stream",
          "text": [
            "[(25, 0.12812501), (30, 0.13388951), (31, 0.6223605)]\n"
          ],
          "name": "stdout"
        }
      ]
    },
    {
      "cell_type": "markdown",
      "metadata": {
        "id": "y8u7_7yBU9pn",
        "colab_type": "text"
      },
      "source": [
        "Также выведите содержимое переменной *.alpha* второй модели:"
      ]
    },
    {
      "cell_type": "code",
      "metadata": {
        "id": "ProUYwWdU9pn",
        "colab_type": "code",
        "colab": {
          "base_uri": "https://localhost:8080/",
          "height": 85
        },
        "outputId": "45b6e819-0fd5-40f9-def5-8a9b3bfd2d1e"
      },
      "source": [
        "print(model2.alpha)"
      ],
      "execution_count": null,
      "outputs": [
        {
          "output_type": "stream",
          "text": [
            "[0.025 0.025 0.025 0.025 0.025 0.025 0.025 0.025 0.025 0.025 0.025 0.025\n",
            " 0.025 0.025 0.025 0.025 0.025 0.025 0.025 0.025 0.025 0.025 0.025 0.025\n",
            " 0.025 0.025 0.025 0.025 0.025 0.025 0.025 0.025 0.025 0.025 0.025 0.025\n",
            " 0.025 0.025 0.025 0.025]\n"
          ],
          "name": "stdout"
        }
      ]
    },
    {
      "cell_type": "markdown",
      "metadata": {
        "id": "MecoO6DBU9pp",
        "colab_type": "text"
      },
      "source": [
        "У вас должно получиться, что документ характеризуется небольшим числом тем. Попробуем поменять гиперпараметр alpha, задающий априорное распределение Дирихле для распределений тем в документах."
      ]
    },
    {
      "cell_type": "markdown",
      "metadata": {
        "id": "lDutx4_uU9pq",
        "colab_type": "text"
      },
      "source": [
        "__Задание 4.__ Обучите третью модель: используйте сокращенный корпус (corpus2 и dictionary2) и установите параметр __alpha=1__, passes=5. Не забудьте про фиксацию seed! Выведите темы новой модели для нулевого документа; должно получиться, что распределение над множеством тем практически равномерное. Чтобы убедиться в том, что во второй модели документы описываются гораздо более разреженными распределениями, чем в третьей, посчитайте суммарное количество элементов, __превосходящих 0.01__, в матрицах темы-документы обеих моделей. Другими словами, запросите темы  модели для каждого документа с параметром *minimum_probability=0.01* и просуммируйте число элементов в получаемых массивах. Передайте две суммы (сначала для модели с alpha по умолчанию, затем для модели в alpha=1) в функцию save_answers4."
      ]
    },
    {
      "cell_type": "code",
      "metadata": {
        "id": "KtZi2siJU9pr",
        "colab_type": "code",
        "colab": {
          "base_uri": "https://localhost:8080/",
          "height": 51
        },
        "outputId": "0682779f-adbe-4791-a28f-6b27a59259ee"
      },
      "source": [
        "%%time\n",
        "np.random.seed(76543)\n",
        "model3 = models.ldamodel.LdaModel(corpus2, id2word=dictionary2, num_topics=40, passes=5, alpha=1)"
      ],
      "execution_count": null,
      "outputs": [
        {
          "output_type": "stream",
          "text": [
            "CPU times: user 39.1 s, sys: 86 ms, total: 39.2 s\n",
            "Wall time: 39.2 s\n"
          ],
          "name": "stdout"
        }
      ]
    },
    {
      "cell_type": "code",
      "metadata": {
        "id": "vWlcM1jgU9pu",
        "colab_type": "code",
        "colab": {
          "base_uri": "https://localhost:8080/",
          "height": 34
        },
        "outputId": "00465ae4-44e0-4f0c-fe2a-c8258160c780"
      },
      "source": [
        "print(len(model3.get_document_topics(corpus2[0])))"
      ],
      "execution_count": null,
      "outputs": [
        {
          "output_type": "stream",
          "text": [
            "40\n"
          ],
          "name": "stdout"
        }
      ]
    },
    {
      "cell_type": "code",
      "metadata": {
        "id": "JHbJeNCsU9pw",
        "colab_type": "code",
        "colab": {}
      },
      "source": [
        "def get_themes(model):\n",
        "  global corpus2\n",
        "  k = 0\n",
        "  for i in corpus2:\n",
        "    k += len(model.get_document_topics(i, minimum_probability=0.01))\n",
        "  return k"
      ],
      "execution_count": null,
      "outputs": []
    },
    {
      "cell_type": "code",
      "metadata": {
        "id": "4Btp0ViV9GIu",
        "colab_type": "code",
        "colab": {
          "base_uri": "https://localhost:8080/",
          "height": 34
        },
        "outputId": "229f7546-1ffe-4a9d-c84a-d1d5c7f46b4f"
      },
      "source": [
        "print(get_themes(model2), get_themes(model3))"
      ],
      "execution_count": null,
      "outputs": [
        {
          "output_type": "stream",
          "text": [
            "198217 1590960\n"
          ],
          "name": "stdout"
        }
      ]
    },
    {
      "cell_type": "markdown",
      "metadata": {
        "id": "7akUS-8U8NS2",
        "colab_type": "text"
      },
      "source": [
        ""
      ]
    },
    {
      "cell_type": "code",
      "metadata": {
        "id": "tG7JnyRHU9py",
        "colab_type": "code",
        "colab": {}
      },
      "source": [
        "def save_answers4(count_model2, count_model3):\n",
        "    with open(\"cooking_LDA_pa_task4.txt\", \"w\") as fout:\n",
        "        fout.write(\" \".join([str(el) for el in [count_model2, count_model3]]))"
      ],
      "execution_count": null,
      "outputs": []
    },
    {
      "cell_type": "markdown",
      "metadata": {
        "id": "rSMlqEFHU9p0",
        "colab_type": "text"
      },
      "source": [
        "Таким образом, гиперпараметр __alpha__ влияет на разреженность распределений тем в документах. Аналогично гиперпараметр __eta__ влияет на разреженность распределений слов в темах."
      ]
    },
    {
      "cell_type": "markdown",
      "metadata": {
        "id": "RRU5qHVLU9p1",
        "colab_type": "text"
      },
      "source": [
        "### LDA как способ понижения размерности\n",
        "Иногда, распределения над темами, найденные с помощью LDA, добавляют в матрицу объекты-признаки как дополнительные, семантические, признаки, и это может улучшить качество решения задачи. Для простоты давайте просто обучим классификатор рецептов на кухни на признаках, полученных из LDA, и измерим точность (accuracy).\n",
        "\n",
        "__Задание 5.__ Используйте модель, построенную по сокращенной выборке с alpha по умолчанию (вторую модель). Составьте матрицу $\\Theta = p(t|d)$ вероятностей тем в документах; вы можете использовать тот же метод get_document_topics, а также вектор правильных ответов y (в том же порядке, в котором рецепты идут в переменной recipes). Создайте объект RandomForestClassifier со 100 деревьями, с помощью функции cross_val_score вычислите среднюю accuracy по трем фолдам (перемешивать данные не нужно) и передайте в функцию save_answers5."
      ]
    },
    {
      "cell_type": "code",
      "metadata": {
        "id": "Carq6WZjU9p1",
        "colab_type": "code",
        "colab": {}
      },
      "source": [
        "from sklearn.ensemble import RandomForestClassifier\n",
        "from sklearn.model_selection import cross_val_score"
      ],
      "execution_count": null,
      "outputs": []
    },
    {
      "cell_type": "code",
      "metadata": {
        "id": "HvPDsoEMU9p3",
        "colab_type": "code",
        "colab": {}
      },
      "source": [
        "matrix = []\n",
        "for i in corpus2:\n",
        "  matrix.append(model2.get_document_topics(i))"
      ],
      "execution_count": null,
      "outputs": []
    },
    {
      "cell_type": "code",
      "metadata": {
        "id": "EeccNqCMU9p5",
        "colab_type": "code",
        "colab": {
          "base_uri": "https://localhost:8080/"
        },
        "outputId": "70ccfd2c-5681-4b7c-dc02-22a2270f218d"
      },
      "source": [
        "print(len(matrix))"
      ],
      "execution_count": null,
      "outputs": [
        {
          "output_type": "stream",
          "text": [
            "39774\n"
          ],
          "name": "stdout"
        }
      ]
    },
    {
      "cell_type": "code",
      "metadata": {
        "id": "zaaNWlzZU9p8",
        "colab_type": "code",
        "colab": {}
      },
      "source": [
        ""
      ],
      "execution_count": null,
      "outputs": []
    },
    {
      "cell_type": "code",
      "metadata": {
        "id": "80ZHRgQvU9p9",
        "colab_type": "code",
        "colab": {}
      },
      "source": [
        "def save_answers5(accuracy):\n",
        "     with open(\"cooking_LDA_pa_task5.txt\", \"w\") as fout:\n",
        "        fout.write(str(accuracy))"
      ],
      "execution_count": null,
      "outputs": []
    },
    {
      "cell_type": "markdown",
      "metadata": {
        "id": "feMmwGzXU9p_",
        "colab_type": "text"
      },
      "source": [
        "Для такого большого количества классов это неплохая точность. Вы можете попроовать обучать RandomForest на исходной матрице частот слов, имеющей значительно большую размерность, и увидеть, что accuracy увеличивается на 10–15%. Таким образом, LDA собрал не всю, но достаточно большую часть информации из выборки, в матрице низкого ранга."
      ]
    },
    {
      "cell_type": "markdown",
      "metadata": {
        "id": "E1jItaTRU9p_",
        "colab_type": "text"
      },
      "source": [
        "### LDA — вероятностная модель\n",
        "Матричное разложение, использующееся в LDA, интерпретируется как следующий процесс генерации документов.\n",
        "\n",
        "Для документа $d$ длины $n_d$:\n",
        "1. Из априорного распределения Дирихле с параметром alpha сгенерировать распределение над множеством тем: $\\theta_d \\sim Dirichlet(\\alpha)$\n",
        "1. Для каждого слова $w = 1, \\dots, n_d$:\n",
        "    1. Сгенерировать тему из дискретного распределения $t \\sim \\theta_{d}$\n",
        "    1. Сгенерировать слово из дискретного распределения $w \\sim \\phi_{t}$.\n",
        "    \n",
        "Подробнее об этом в [Википедии](https://en.wikipedia.org/wiki/Latent_Dirichlet_allocation).\n",
        "\n",
        "В контексте нашей задачи получается, что, используя данный генеративный процесс, можно создавать новые рецепты. Вы можете передать в функцию модель и число ингредиентов и сгенерировать рецепт :)"
      ]
    },
    {
      "cell_type": "code",
      "metadata": {
        "id": "ofheq8H_U9p_",
        "colab_type": "code",
        "colab": {}
      },
      "source": [
        "def generate_recipe(model, num_ingredients):\n",
        "    theta = np.random.dirichlet(model.alpha)\n",
        "    for i in range(num_ingredients):\n",
        "        t = np.random.choice(np.arange(model.num_topics), p=theta)\n",
        "        topic = model.show_topic(t, topn=model.num_terms)\n",
        "        topic_distr = [x[1] for x in topic]\n",
        "        terms = [x[0] for x in topic]\n",
        "        w = np.random.choice(terms, p=topic_distr)\n",
        "        print w"
      ],
      "execution_count": null,
      "outputs": []
    },
    {
      "cell_type": "code",
      "metadata": {
        "id": "ipKIh79VU9qB",
        "colab_type": "code",
        "colab": {}
      },
      "source": [
        ""
      ],
      "execution_count": null,
      "outputs": []
    },
    {
      "cell_type": "markdown",
      "metadata": {
        "id": "5udRQe9HU9qD",
        "colab_type": "text"
      },
      "source": [
        "### Интерпретация построенной модели\n",
        "Вы можете рассмотреть топы ингредиентов каждой темы. Большиснтво тем сами по себе похожи на рецепты; в некоторых собираются продукты одного вида, например, свежие фрукты или разные виды сыра.\n",
        "\n",
        "Попробуем эмпирически соотнести наши темы с национальными кухнями (cuisine). Построим матрицу $A$ размера темы $x$ кухни, ее элементы $a_{tc}$ — суммы $p(t|d)$ по всем документам $d$, которые отнесены к кухне $c$. Нормируем матрицу на частоты рецептов по разным кухням, чтобы избежать дисбаланса между кухнями. Следующая функция получает на вход объект модели, объект корпуса и исходные данные и возвращает нормированную матрицу $A$. Ее удобно визуализировать с помощью seaborn."
      ]
    },
    {
      "cell_type": "code",
      "metadata": {
        "id": "Bbwl2pIdU9qE",
        "colab_type": "code",
        "colab": {}
      },
      "source": [
        "import pandas\n",
        "import seaborn\n",
        "from matplotlib import pyplot as plt\n",
        "%matplotlib inline"
      ],
      "execution_count": null,
      "outputs": []
    },
    {
      "cell_type": "code",
      "metadata": {
        "id": "f9c1ELWiU9qG",
        "colab_type": "code",
        "colab": {}
      },
      "source": [
        "def compute_topic_cuisine_matrix(model, corpus, recipes):\n",
        "    # составляем вектор целевых признаков\n",
        "    targets = list(set([recipe[\"cuisine\"] for recipe in recipes]))\n",
        "    # составляем матрицу\n",
        "    tc_matrix = pandas.DataFrame(data=np.zeros((model.num_topics, len(targets))), columns=targets)\n",
        "    for recipe, bow in zip(recipes, corpus):\n",
        "        recipe_topic = model.get_document_topics(bow)\n",
        "        for t, prob in recipe_topic:\n",
        "            tc_matrix[recipe[\"cuisine\"]][t] += prob\n",
        "    # нормируем матрицу\n",
        "    target_sums = pandas.DataFrame(data=np.zeros((1, len(targets))), columns=targets)\n",
        "    for recipe in recipes:\n",
        "        target_sums[recipe[\"cuisine\"]] += 1\n",
        "    return pandas.DataFrame(tc_matrix.values/target_sums.values, columns=tc_matrix.columns)"
      ],
      "execution_count": null,
      "outputs": []
    },
    {
      "cell_type": "code",
      "metadata": {
        "id": "8fWI9MOnU9qI",
        "colab_type": "code",
        "colab": {}
      },
      "source": [
        "def plot_matrix(tc_matrix):\n",
        "    plt.figure(figsize=(10, 10))\n",
        "    seaborn.heatmap(tc_matrix, square=True)"
      ],
      "execution_count": null,
      "outputs": []
    },
    {
      "cell_type": "code",
      "metadata": {
        "id": "bL1QtLXtU9qM",
        "colab_type": "code",
        "colab": {}
      },
      "source": [
        "# Визуализируйте матрицу\n"
      ],
      "execution_count": null,
      "outputs": []
    },
    {
      "cell_type": "markdown",
      "metadata": {
        "id": "_qGXml8gU9qO",
        "colab_type": "text"
      },
      "source": [
        "Чем темнее квадрат в матрице, тем больше связь этой темы с данной кухней. Мы видим, что у нас есть темы, которые связаны с несколькими кухнями. Такие темы показывают набор ингредиентов, которые популярны в кухнях нескольких народов, то есть указывают на схожесть кухонь этих народов. Некоторые темы распределены по всем кухням равномерно, они показывают наборы продуктов, которые часто используются в кулинарии всех стран. "
      ]
    },
    {
      "cell_type": "markdown",
      "metadata": {
        "id": "e_fYYoDeU9qP",
        "colab_type": "text"
      },
      "source": [
        "Жаль, что в датасете нет названий рецептов, иначе темы было бы проще интерпретировать..."
      ]
    },
    {
      "cell_type": "markdown",
      "metadata": {
        "id": "KEs8GYWBU9qP",
        "colab_type": "text"
      },
      "source": [
        "### Заключение\n",
        "В этом задании вы построили несколько моделей LDA, посмотрели, на что влияют гиперпараметры модели и как можно использовать построенную модель. "
      ]
    }
  ]
}