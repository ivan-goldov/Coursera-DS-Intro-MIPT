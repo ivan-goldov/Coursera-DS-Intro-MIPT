{
 "cells": [
  {
   "cell_type": "code",
   "execution_count": 1,
   "metadata": {},
   "outputs": [],
   "source": [
    "from sklearn import model_selection, datasets, linear_model, metrics\n",
    "import numpy as np\n",
    "import pandas as pd"
   ]
  },
  {
   "cell_type": "code",
   "execution_count": 13,
   "metadata": {},
   "outputs": [
    {
     "name": "stdout",
     "output_type": "stream",
     "text": [
      "Index(['location', 'town', 'mortality', 'hardness'], dtype='object')\n",
      "North    35\n",
      "South    26\n",
      "Name: location, dtype: int64\n"
     ]
    }
   ],
   "source": [
    "data = data = pd.read_csv('water(test1).txt', sep=\"\t\", header=None)\n",
    "data.columns = [data.iloc[0, 0], data.iloc[0, 1], data.iloc[0, 2], data.iloc[0, 3]]\n",
    "data.drop(0, axis=0, inplace=True)\n",
    "data.mortality = data.mortality.apply(lambda x: int(x))\n",
    "data.hardness = data.hardness.apply(lambda x: int(x))\n",
    "print(data.columns)\n",
    "print(data['location'].value_counts())"
   ]
  },
  {
   "cell_type": "code",
   "execution_count": 3,
   "metadata": {},
   "outputs": [],
   "source": [
    "from statsmodels.stats.weightstats import _zconfint_generic, _tconfint_generic"
   ]
  },
  {
   "cell_type": "code",
   "execution_count": 14,
   "metadata": {},
   "outputs": [
    {
     "name": "stdout",
     "output_type": "stream",
     "text": [
      "(1476.0833413552848, 1572.2117406119285)\n"
     ]
    }
   ],
   "source": [
    "#строим доверительный интервал для средней смертности, дисперсия = выборочная дисперсия \n",
    "\n",
    "mortality_std = data['mortality'].std(ddof=1) / np.sqrt(data.shape[0])\n",
    "mortality_mean = data['mortality'].mean()\n",
    "print(_tconfint_generic(mortality_mean, mortality_std, data.shape[0] - 1, 0.05, 'two-sided'))"
   ]
  },
  {
   "cell_type": "code",
   "execution_count": 15,
   "metadata": {},
   "outputs": [
    {
     "name": "stdout",
     "output_type": "stream",
     "text": [
      "(1320.1517462936238, 1433.463638321761)\n"
     ]
    }
   ],
   "source": [
    "#строим доверительный интервал для средней смертности в южных городах, дисперсия = выборочная дисперсия \n",
    "\n",
    "data_south = data.loc[data['location'] == 'South']\n",
    "mortality_std_south = data_south['mortality'].std(ddof=1) / np.sqrt(data_south.shape[0])\n",
    "mortality_mean_south = data_south['mortality'].mean()\n",
    "print(_tconfint_generic(mortality_mean_south, mortality_std_south, data_south.shape[0] - 1, 0.05, 'two-sided'))"
   ]
  },
  {
   "cell_type": "code",
   "execution_count": 16,
   "metadata": {},
   "outputs": [
    {
     "name": "stdout",
     "output_type": "stream",
     "text": [
      "(1586.5605251961385, 1680.6394748038613)\n"
     ]
    }
   ],
   "source": [
    "#строим доверительный интервал для средней смертности в северных городах, дисперсия = выборочная дисперсия\n",
    "\n",
    "data_north = data.loc[data['location'] == 'North']\n",
    "mortality_std_north = data_north['mortality'].std(ddof=1) / np.sqrt(data_north.shape[0])\n",
    "mortality_mean_north = data_north['mortality'].mean()\n",
    "print(_tconfint_generic(mortality_mean_north, mortality_std_north, data_north.shape[0] - 1, 0.05, 'two-sided'))"
   ]
  },
  {
   "cell_type": "code",
   "execution_count": 19,
   "metadata": {},
   "outputs": [
    {
     "name": "stdout",
     "output_type": "stream",
     "text": [
      "(21.42248728572426, 39.37751271427574)\n",
      "(55.718646138798405, 83.81981539966314)\n"
     ]
    }
   ],
   "source": [
    "#доверительный интервал для средней жесткости воды в южных и северных городах, дисперсия = выборочная дисперсия\n",
    "\n",
    "hardness_std_north = data_north['hardness'].std(ddof=1) / np.sqrt(data_north.shape[0])\n",
    "hardness_mean_north = data_north['hardness'].mean()\n",
    "print(_tconfint_generic(hardness_mean_north, hardness_std_north, data_north.shape[0]-1, 0.05, 'two-sided'))\n",
    "\n",
    "hardness_std_south = data_south['hardness'].std(ddof=1) / np.sqrt(data_north.shape[0])\n",
    "hardness_mean_south = data_south['hardness'].mean()\n",
    "print(_tconfint_generic(hardness_mean_south, hardness_std_south, data_south.shape[0]-1, 0.05, 'two-sided'))"
   ]
  }
 ],
 "metadata": {
  "kernelspec": {
   "display_name": "Python 3",
   "language": "python",
   "name": "python3"
  },
  "language_info": {
   "codemirror_mode": {
    "name": "ipython",
    "version": 3
   },
   "file_extension": ".py",
   "mimetype": "text/x-python",
   "name": "python",
   "nbconvert_exporter": "python",
   "pygments_lexer": "ipython3",
   "version": "3.7.7"
  }
 },
 "nbformat": 4,
 "nbformat_minor": 4
}
